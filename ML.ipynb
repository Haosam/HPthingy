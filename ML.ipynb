{
 "cells": [
  {
   "cell_type": "code",
   "execution_count": 1,
   "id": "8793a0f5-10fc-44b7-ba62-9e1e00ed6104",
   "metadata": {},
   "outputs": [],
   "source": [
    "# import libraries\n",
    "import pandas as pd\n",
    "import warnings\n",
    "from numpy import mean\n",
    "from numpy import std\n",
    "from matplotlib import pyplot as plt\n",
    "\n",
    "from sklearn.preprocessing import StandardScaler\n",
    "from sklearn.preprocessing import MinMaxScaler\n",
    "from sklearn.pipeline import Pipeline\n",
    "\n",
    "# insert libraries for the required regression algorithms\n",
    "from sklearn.linear_model import LinearRegression\n",
    "from sklearn.svm import SVR\n",
    "from sklearn.tree import DecisionTreeRegressor\n",
    "from sklearn.ensemble import RandomForestRegressor\n",
    "\n",
    "from sklearn.model_selection import cross_val_score"
   ]
  },
  {
   "cell_type": "markdown",
   "id": "8fb1c86f-e197-4061-831d-a3cf5e37bca3",
   "metadata": {},
   "source": [
    "## Defining a function to contain the functions"
   ]
  },
  {
   "cell_type": "code",
   "execution_count": 2,
   "id": "e4ccf295-7512-4120-a5ab-75cff7a5797f",
   "metadata": {},
   "outputs": [],
   "source": [
    "# create a dict of standard models to evaluate {name:object}\n",
    "def get_models(models=dict()):\n",
    "    # linear models\n",
    "    models['lr'] = LinearRegression()\n",
    "    models['svr'] = SVR(kernel = 'rbf')\n",
    "    models['dt'] = DecisionTreeRegressor()\n",
    "    models['rf'] = RandomForestRegressor()\n",
    "    return models"
   ]
  },
  {
   "cell_type": "markdown",
   "id": "896f2694-1113-4c93-8a71-b693bccf2d9c",
   "metadata": {},
   "source": [
    "Creating a pipeline to standardize the data"
   ]
  },
  {
   "cell_type": "code",
   "execution_count": 3,
   "id": "54c006e8-0286-4382-a9d7-c951071e3f16",
   "metadata": {},
   "outputs": [],
   "source": [
    "# create a feature preparation pipeline for a model\n",
    "def make_pipeline(model):\n",
    "    steps = list()\n",
    "    # standardization\n",
    "    steps.append(('standardize', StandardScaler()))\n",
    "    # normalization\n",
    "    steps.append(('normalize', MinMaxScaler()))\n",
    "    # the model\n",
    "    steps.append(('model', model))\n",
    "    # create pipeline\n",
    "    pipeline = Pipeline(steps=steps)\n",
    "    return pipeline"
   ]
  },
  {
   "cell_type": "code",
   "execution_count": 4,
   "id": "4b47043d-c558-445b-a886-4ae462b48307",
   "metadata": {},
   "outputs": [],
   "source": [
    "# evaluate a single model\n",
    "def evaluate_model(X, y, model, folds, metric):\n",
    "    # create the pipeline\n",
    "    pipeline = make_pipeline(model)\n",
    "    # evaluate model\n",
    "    scores = cross_val_score(pipeline, X, y, scoring=metric, cv=folds, n_jobs=-1)\n",
    "    return scores"
   ]
  },
  {
   "cell_type": "code",
   "execution_count": 5,
   "id": "ba065ea9-5f80-4c69-8326-f579903ae4b6",
   "metadata": {},
   "outputs": [],
   "source": [
    "# evaluate a model and try to trap errors and and hide warnings\n",
    "def robust_evaluate_model(X, y, model, folds, metric):\n",
    "    scores = None\n",
    "    try:\n",
    "        with warnings.catch_warnings():\n",
    "            warnings.filterwarnings(\"ignore\")\n",
    "            scores = evaluate_model(X, y, model, folds, metric)\n",
    "    except:\n",
    "        scores = None\n",
    "    return scores"
   ]
  },
  {
   "cell_type": "code",
   "execution_count": null,
   "id": "d19c3c8f-4d63-4457-84e2-2863415cb054",
   "metadata": {},
   "outputs": [],
   "source": [
    "# evaluate a dict of models {name:object}, returns {name:score}\n",
    "def evaluate_models(X, y, models, folds=10, metric='accuracy'):\n",
    "    results = dict()\n",
    "    for name, model in models.items():\n",
    "        # evaluate the model\n",
    "        scores = robust_evaluate_model(X, y, model, folds, metric)\n",
    "        # show process\n",
    "        if scores is not None:\n",
    "            # store a result\n",
    "            results[name] = scores\n",
    "            mean_score, std_score = mean(scores), std(scores)\n",
    "            print('>%s: %.3f (+/-%.3f)' % (name, mean_score, std_score))\n",
    "        else:\n",
    "            print('>%s: error' % name)\n",
    "    return results"
   ]
  },
  {
   "cell_type": "code",
   "execution_count": 7,
   "id": "9feedff9-a026-44ac-811b-3298e44bafe5",
   "metadata": {},
   "outputs": [],
   "source": [
    "# print and plot the top n results\n",
    "def summarize_results(results, maximize=True, top_n=10):\n",
    "    # check for no results\n",
    "    if len(results) == 0:\n",
    "        print('no results')\n",
    "        return\n",
    "    # determine how many results to summarize  \n",
    "    n = min(top_n, len(results))\n",
    "    # create a list of (name, mean(scores)) tuples\n",
    "    mean_scores = [(k,mean(v)) for k,v in results.items()]\n",
    "    # sort tuples by mean score\n",
    "    mean_scores = sorted(mean_scores, key=lambda x: x[1])\n",
    "    # reverse for descending order (e.g. for metric)\n",
    "    if maximize:\n",
    "        mean_scores = list(reversed(mean_scores))\n",
    "    # retrieve the top n for summarization\n",
    "    names = [x[0] for x in mean_scores[:n]]\n",
    "    scores = [results[x[0]] for x in mean_scores[:n]]\n",
    "    # print the top n\n",
    "    print()\n",
    "    for i in range(n):\n",
    "        name = names[i]\n",
    "        mean_score, std_score = mean(results[name]), std(results[name])\n",
    "        print('Rank=%d, Name=%s, Score=%.3f (+/- %.3f)' % (i+1, name, mean_score, std_score))"
   ]
  },
  {
   "cell_type": "markdown",
   "id": "f8eb3eb1-ffeb-47cf-b293-dc84c8b8bf17",
   "metadata": {},
   "source": [
    "## Load data and run the ML algorithms"
   ]
  },
  {
   "cell_type": "code",
   "execution_count": 8,
   "id": "1767bdc8-707f-4ee5-a7f0-4e938c291cbb",
   "metadata": {},
   "outputs": [
    {
     "name": "stdout",
     "output_type": "stream",
     "text": [
      "<class 'pandas.core.frame.DataFrame'>\n",
      "RangeIndex: 413 entries, 0 to 412\n",
      "Data columns (total 8 columns):\n",
      " #   Column                                  Non-Null Count  Dtype  \n",
      "---  ------                                  --------------  -----  \n",
      " 0   Unnamed: 0                              413 non-null    int64  \n",
      " 1   X1 transaction date                     413 non-null    object \n",
      " 2   X2 house age                            413 non-null    float64\n",
      " 3   X3 distance to the nearest MRT station  413 non-null    float64\n",
      " 4   X4 number of convenience stores         413 non-null    int64  \n",
      " 5   X5 latitude                             413 non-null    float64\n",
      " 6   X6 longitude                            413 non-null    float64\n",
      " 7   Y house price of unit area              413 non-null    float64\n",
      "dtypes: float64(5), int64(2), object(1)\n",
      "memory usage: 25.9+ KB\n"
     ]
    }
   ],
   "source": [
    "# load dataset\n",
    "path = \"\"\n",
    " # define path\n",
    "df = pd.read_csv(\"cleaned.csv\")\n",
    "df.info()\n",
    "\n",
    "# df.set_index('No', inplace = True)\n",
    "    \n",
    "X = df.drop(['Y house price of unit area','X6 longitude','X1 transaction date'], axis =1)\n",
    "y = df['Y house price of unit area'].values"
   ]
  },
  {
   "cell_type": "code",
   "execution_count": 13,
   "id": "7cf734ae-a838-446d-aef3-edda8a703f6b",
   "metadata": {},
   "outputs": [
    {
     "name": "stdout",
     "output_type": "stream",
     "text": [
      ">lr: -8.069 (+/-1.148)\n",
      ">svr: -8.070 (+/-1.322)\n",
      ">dt: -8.379 (+/-1.377)\n",
      ">rf: -6.519 (+/-0.918)\n",
      "\n",
      "Rank=1, Name=rf, Score=-6.519 (+/- 0.918)\n",
      "Rank=2, Name=lr, Score=-8.069 (+/- 1.148)\n",
      "Rank=3, Name=svr, Score=-8.070 (+/- 1.322)\n",
      "Rank=4, Name=dt, Score=-8.379 (+/- 1.377)\n"
     ]
    }
   ],
   "source": [
    "# get model list\n",
    "models = get_models()\n",
    "\n",
    "# evaluate models\n",
    "results = evaluate_models(X, y, models, metric='neg_root_mean_squared_error')\n",
    "\n",
    "# summarize results\n",
    "summarize_results(results)"
   ]
  },
  {
   "cell_type": "code",
   "execution_count": 10,
   "id": "9d79cbc4-5eea-4ea9-9bbf-e54fea494c00",
   "metadata": {},
   "outputs": [
    {
     "name": "stdout",
     "output_type": "stream",
     "text": [
      ">lr: 0.601 (+/-0.098)\n",
      ">svr: 0.600 (+/-0.104)\n",
      ">dt: 0.557 (+/-0.134)\n",
      ">rf: 0.738 (+/-0.056)\n",
      "\n",
      "Rank=1, Name=rf, Score=0.738 (+/- 0.056)\n",
      "Rank=2, Name=lr, Score=0.601 (+/- 0.098)\n",
      "Rank=3, Name=svr, Score=0.600 (+/- 0.104)\n",
      "Rank=4, Name=dt, Score=0.557 (+/- 0.134)\n"
     ]
    }
   ],
   "source": [
    "# get model list\n",
    "models = get_models()\n",
    "\n",
    "# evaluate models\n",
    "results = evaluate_models(X, y, models, metric='r2')\n",
    "\n",
    "# summarize results\n",
    "summarize_results(results)"
   ]
  },
  {
   "cell_type": "markdown",
   "id": "2a4dd32a-9da0-4e14-a186-18a3399cc8da",
   "metadata": {},
   "source": [
    "The Random Forest Regressor algorithm has the best performance, based on the root mean square error and R2 metrics.\n",
    "- The deviation of errors for LR is around 6.519 (10,000/ping), so around 65190 TWD/ping\n",
    "- R2 of 0.738 is quite high as the closer to 1 it is, there is quite a good correlation between the factors and the pricing"
   ]
  },
  {
   "cell_type": "code",
   "execution_count": null,
   "id": "4380ff11-40b6-47bd-af3c-f4fd9c574f19",
   "metadata": {},
   "outputs": [],
   "source": []
  }
 ],
 "metadata": {
  "kernelspec": {
   "display_name": "Python 3 (ipykernel)",
   "language": "python",
   "name": "python3"
  },
  "language_info": {
   "codemirror_mode": {
    "name": "ipython",
    "version": 3
   },
   "file_extension": ".py",
   "mimetype": "text/x-python",
   "name": "python",
   "nbconvert_exporter": "python",
   "pygments_lexer": "ipython3",
   "version": "3.9.12"
  }
 },
 "nbformat": 4,
 "nbformat_minor": 5
}
